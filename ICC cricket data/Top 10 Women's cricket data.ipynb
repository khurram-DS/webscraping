{
 "cells": [
  {
   "cell_type": "markdown",
   "metadata": {},
   "source": [
    "# Top 10 Womens cricket data scraping from ICC website\n",
    "\n",
    "Writing a python program to scrape cricket rankings from ‘www.icc-cricket.com’.\n",
    "\n",
    "I have scraped:\n",
    "\n",
    "i) Top 10 ODI teams in women’s cricket along with the records for matches, points and rating.\n",
    "\n",
    "ii) Top 10 women’s ODI players along with the records of their team and rating.\n",
    "\n",
    "iii) Top 10 women’s ODI all-rounder along with the records of their team and rating"
   ]
  },
  {
   "cell_type": "markdown",
   "metadata": {},
   "source": [
    "# Top 10 Womens Cricket Team in the world"
   ]
  },
  {
   "cell_type": "code",
   "execution_count": 1,
   "metadata": {},
   "outputs": [],
   "source": [
    "#importing selenium library\n",
    "import selenium\n",
    "import pandas as pd\n",
    "from selenium import webdriver"
   ]
  },
  {
   "cell_type": "code",
   "execution_count": 2,
   "metadata": {},
   "outputs": [],
   "source": [
    "driver= webdriver.Chrome(r\"C:\\Users\\khurr\\Downloads\\chromedriver.exe\")"
   ]
  },
  {
   "cell_type": "code",
   "execution_count": 3,
   "metadata": {},
   "outputs": [],
   "source": [
    "url='https://www.icc-cricket.com/rankings/womens/team-rankings/odi'"
   ]
  },
  {
   "cell_type": "code",
   "execution_count": 4,
   "metadata": {},
   "outputs": [],
   "source": [
    "driver.get(url)"
   ]
  },
  {
   "cell_type": "code",
   "execution_count": 5,
   "metadata": {},
   "outputs": [],
   "source": [
    "#calling empty list to store the different data\n",
    "Team=[]\n",
    "Matches=[]\n",
    "Points=[]\n",
    "Ratings=[]"
   ]
  },
  {
   "cell_type": "code",
   "execution_count": 6,
   "metadata": {},
   "outputs": [
    {
     "data": {
      "text/plain": [
       "[<selenium.webdriver.remote.webelement.WebElement (session=\"1b049bbccd80b42dff4593e9eb3fbbb5\", element=\"2970189a-6909-4c04-9ca2-510e7ad77489\")>,\n",
       " <selenium.webdriver.remote.webelement.WebElement (session=\"1b049bbccd80b42dff4593e9eb3fbbb5\", element=\"dd9aa83e-996e-413c-bf0e-28989fe4f4cf\")>,\n",
       " <selenium.webdriver.remote.webelement.WebElement (session=\"1b049bbccd80b42dff4593e9eb3fbbb5\", element=\"49b21d76-0a5b-462d-aaf3-ce1eba986194\")>,\n",
       " <selenium.webdriver.remote.webelement.WebElement (session=\"1b049bbccd80b42dff4593e9eb3fbbb5\", element=\"c97f0a01-f1da-4afb-9c6e-37bc4227d579\")>]"
      ]
     },
     "execution_count": 6,
     "metadata": {},
     "output_type": "execute_result"
    }
   ],
   "source": [
    "# lets extract the team name in the Team list\n",
    "team_tags=driver.find_elements_by_xpath(\"//span[@class='u-hide-phablet']\")\n",
    "team_tags[:4]"
   ]
  },
  {
   "cell_type": "code",
   "execution_count": 7,
   "metadata": {},
   "outputs": [
    {
     "data": {
      "text/plain": [
       "['Australia', 'India', 'England', 'South Africa']"
      ]
     },
     "execution_count": 7,
     "metadata": {},
     "output_type": "execute_result"
    }
   ],
   "source": [
    "#saving team name in the team list\n",
    "for i in team_tags:\n",
    "    \n",
    "    team=i.text\n",
    "    Team.append(team)\n",
    "Team[:4]"
   ]
  },
  {
   "cell_type": "code",
   "execution_count": 8,
   "metadata": {},
   "outputs": [
    {
     "data": {
      "text/plain": [
       "[<selenium.webdriver.remote.webelement.WebElement (session=\"1b049bbccd80b42dff4593e9eb3fbbb5\", element=\"615b383c-3846-4e53-ba65-1d28d8150a70\")>]"
      ]
     },
     "execution_count": 8,
     "metadata": {},
     "output_type": "execute_result"
    }
   ],
   "source": [
    "# lets extract the matches record in the list\n",
    "matches_tags=driver.find_elements_by_xpath(\"//td[@class='rankings-block__banner--matches']\")\n",
    "matches_tags"
   ]
  },
  {
   "cell_type": "code",
   "execution_count": 9,
   "metadata": {},
   "outputs": [
    {
     "data": {
      "text/plain": [
       "['15']"
      ]
     },
     "execution_count": 9,
     "metadata": {},
     "output_type": "execute_result"
    }
   ],
   "source": [
    "for i in matches_tags:\n",
    "    \n",
    "    matches=i.text\n",
    "    Matches.append(matches)\n",
    "Matches"
   ]
  },
  {
   "cell_type": "code",
   "execution_count": 10,
   "metadata": {},
   "outputs": [
    {
     "data": {
      "text/plain": [
       "[<selenium.webdriver.remote.webelement.WebElement (session=\"1b049bbccd80b42dff4593e9eb3fbbb5\", element=\"1f17dcc4-5e93-4228-84b8-212a49209dd7\")>,\n",
       " <selenium.webdriver.remote.webelement.WebElement (session=\"1b049bbccd80b42dff4593e9eb3fbbb5\", element=\"d7a14c6e-4168-4ae8-851a-c982e64df103\")>,\n",
       " <selenium.webdriver.remote.webelement.WebElement (session=\"1b049bbccd80b42dff4593e9eb3fbbb5\", element=\"b42525a0-5244-4650-9d52-3b266e038418\")>,\n",
       " <selenium.webdriver.remote.webelement.WebElement (session=\"1b049bbccd80b42dff4593e9eb3fbbb5\", element=\"a56bf756-dab2-4ba5-8723-940ee15b4f3e\")>]"
      ]
     },
     "execution_count": 10,
     "metadata": {},
     "output_type": "execute_result"
    }
   ],
   "source": [
    "# lets extract the other team matches record in the list\n",
    "matches_tags=driver.find_elements_by_xpath(\"//td[@class='table-body__cell u-center-text']\")\n",
    "matches_tags[:4]"
   ]
  },
  {
   "cell_type": "code",
   "execution_count": 11,
   "metadata": {},
   "outputs": [],
   "source": [
    "# we can see the two tags has the same path so what we can do is we can delete 1 data \n",
    "del matches_tags[1::2]"
   ]
  },
  {
   "cell_type": "code",
   "execution_count": 12,
   "metadata": {},
   "outputs": [
    {
     "data": {
      "text/plain": [
       "['15', '15', '14', '16', '15', '12', '12', '5', '11', '2']"
      ]
     },
     "execution_count": 12,
     "metadata": {},
     "output_type": "execute_result"
    }
   ],
   "source": [
    "for i in matches_tags:\n",
    "    \n",
    "    matches=i.text\n",
    "    Matches.append(matches)\n",
    "Matches"
   ]
  },
  {
   "cell_type": "code",
   "execution_count": 13,
   "metadata": {},
   "outputs": [
    {
     "data": {
      "text/plain": [
       "[<selenium.webdriver.remote.webelement.WebElement (session=\"1b049bbccd80b42dff4593e9eb3fbbb5\", element=\"e4732a3e-524e-4c2e-9b4e-702fc4d461d4\")>]"
      ]
     },
     "execution_count": 13,
     "metadata": {},
     "output_type": "execute_result"
    }
   ],
   "source": [
    "# lets extract points record in the list\n",
    "points_tags=driver.find_elements_by_xpath(\"//td[@class='rankings-block__banner--points']\")\n",
    "points_tags"
   ]
  },
  {
   "cell_type": "code",
   "execution_count": 14,
   "metadata": {},
   "outputs": [
    {
     "data": {
      "text/plain": [
       "['2,436']"
      ]
     },
     "execution_count": 14,
     "metadata": {},
     "output_type": "execute_result"
    }
   ],
   "source": [
    "for i in points_tags:\n",
    "    \n",
    "    points=i.text\n",
    "    Points.append(points)\n",
    "Points"
   ]
  },
  {
   "cell_type": "code",
   "execution_count": 15,
   "metadata": {},
   "outputs": [
    {
     "data": {
      "text/plain": [
       "[<selenium.webdriver.remote.webelement.WebElement (session=\"1b049bbccd80b42dff4593e9eb3fbbb5\", element=\"1f17dcc4-5e93-4228-84b8-212a49209dd7\")>,\n",
       " <selenium.webdriver.remote.webelement.WebElement (session=\"1b049bbccd80b42dff4593e9eb3fbbb5\", element=\"d7a14c6e-4168-4ae8-851a-c982e64df103\")>,\n",
       " <selenium.webdriver.remote.webelement.WebElement (session=\"1b049bbccd80b42dff4593e9eb3fbbb5\", element=\"b42525a0-5244-4650-9d52-3b266e038418\")>,\n",
       " <selenium.webdriver.remote.webelement.WebElement (session=\"1b049bbccd80b42dff4593e9eb3fbbb5\", element=\"a56bf756-dab2-4ba5-8723-940ee15b4f3e\")>]"
      ]
     },
     "execution_count": 15,
     "metadata": {},
     "output_type": "execute_result"
    }
   ],
   "source": [
    "# lets extract points record in the list\n",
    "points_tags=driver.find_elements_by_xpath(\"//td[@class='table-body__cell u-center-text']\")\n",
    "points_tags[:4]"
   ]
  },
  {
   "cell_type": "code",
   "execution_count": 16,
   "metadata": {},
   "outputs": [],
   "source": [
    "#lets delete the odd index data cause as we know we have two data in the same link\n",
    "del points_tags[::2]"
   ]
  },
  {
   "cell_type": "code",
   "execution_count": 17,
   "metadata": {},
   "outputs": [
    {
     "data": {
      "text/plain": [
       "['2,436', '1,812', '1,670', '1,713', '1,384']"
      ]
     },
     "execution_count": 17,
     "metadata": {},
     "output_type": "execute_result"
    }
   ],
   "source": [
    "#saving all the other data to the list\n",
    "for i in points_tags:\n",
    "    \n",
    "    points=i.text\n",
    "    Points.append(points)\n",
    "Points[:5]"
   ]
  },
  {
   "cell_type": "code",
   "execution_count": 18,
   "metadata": {},
   "outputs": [
    {
     "data": {
      "text/plain": [
       "[<selenium.webdriver.remote.webelement.WebElement (session=\"1b049bbccd80b42dff4593e9eb3fbbb5\", element=\"e3b294c9-0081-4943-971e-b7c72a39ba72\")>]"
      ]
     },
     "execution_count": 18,
     "metadata": {},
     "output_type": "execute_result"
    }
   ],
   "source": [
    "# lets extract Ratings of the team in the list\n",
    "ratings_tags=driver.find_elements_by_xpath(\"//td[@class='rankings-block__banner--rating u-text-right']\")\n",
    "ratings_tags"
   ]
  },
  {
   "cell_type": "code",
   "execution_count": 19,
   "metadata": {},
   "outputs": [
    {
     "data": {
      "text/plain": [
       "['162']"
      ]
     },
     "execution_count": 19,
     "metadata": {},
     "output_type": "execute_result"
    }
   ],
   "source": [
    "#saving Ratings data to the list\n",
    "for i in ratings_tags:\n",
    "    \n",
    "    rating=i.text\n",
    "    Ratings.append(rating)\n",
    "Ratings"
   ]
  },
  {
   "cell_type": "code",
   "execution_count": 20,
   "metadata": {},
   "outputs": [
    {
     "data": {
      "text/plain": [
       "[<selenium.webdriver.remote.webelement.WebElement (session=\"1b049bbccd80b42dff4593e9eb3fbbb5\", element=\"ae4d6857-90f6-469a-aa8b-60ea4fab3ec0\")>,\n",
       " <selenium.webdriver.remote.webelement.WebElement (session=\"1b049bbccd80b42dff4593e9eb3fbbb5\", element=\"d68f947c-6954-4f4a-9bed-9db308c20db3\")>,\n",
       " <selenium.webdriver.remote.webelement.WebElement (session=\"1b049bbccd80b42dff4593e9eb3fbbb5\", element=\"1570001a-9334-42c2-8f2a-846df538b2b5\")>,\n",
       " <selenium.webdriver.remote.webelement.WebElement (session=\"1b049bbccd80b42dff4593e9eb3fbbb5\", element=\"f9b60a1b-45cf-4aeb-bcf6-08d8cb0faac7\")>,\n",
       " <selenium.webdriver.remote.webelement.WebElement (session=\"1b049bbccd80b42dff4593e9eb3fbbb5\", element=\"9182f010-7bc1-403e-abe6-b03aa21c3437\")>,\n",
       " <selenium.webdriver.remote.webelement.WebElement (session=\"1b049bbccd80b42dff4593e9eb3fbbb5\", element=\"6370ea67-2f4d-4da5-bb45-fe260c589714\")>,\n",
       " <selenium.webdriver.remote.webelement.WebElement (session=\"1b049bbccd80b42dff4593e9eb3fbbb5\", element=\"eccbabd0-0901-445a-b2e3-8cfbb737e40d\")>,\n",
       " <selenium.webdriver.remote.webelement.WebElement (session=\"1b049bbccd80b42dff4593e9eb3fbbb5\", element=\"4f7feb76-5b97-4935-a2e4-48e688baf70a\")>,\n",
       " <selenium.webdriver.remote.webelement.WebElement (session=\"1b049bbccd80b42dff4593e9eb3fbbb5\", element=\"192906d8-4a89-4d36-824a-07e0980c2d3f\")>]"
      ]
     },
     "execution_count": 20,
     "metadata": {},
     "output_type": "execute_result"
    }
   ],
   "source": [
    "# lets extract Ratings of the other team in the list\n",
    "ratings_tags=driver.find_elements_by_xpath(\"//td[@class='table-body__cell u-text-right rating']\")\n",
    "ratings_tags"
   ]
  },
  {
   "cell_type": "code",
   "execution_count": 21,
   "metadata": {},
   "outputs": [
    {
     "data": {
      "text/plain": [
       "['162', '121', '119', '107', '92', '85', '77', '61', '47', '13']"
      ]
     },
     "execution_count": 21,
     "metadata": {},
     "output_type": "execute_result"
    }
   ],
   "source": [
    "#saving Ratings data to the list\n",
    "for i in ratings_tags:\n",
    "    \n",
    "    rating=i.text\n",
    "    Ratings.append(rating)\n",
    "Ratings"
   ]
  },
  {
   "cell_type": "code",
   "execution_count": 22,
   "metadata": {},
   "outputs": [
    {
     "name": "stdout",
     "output_type": "stream",
     "text": [
      "10 10 10 10\n"
     ]
    }
   ],
   "source": [
    "# as I extracted all the data\n",
    "# Before saving the data into a data frame length check the lenth all the data must be of equal lenghts before saving the data.\n",
    "print(len(Team),len(Matches),len(Points),len(Ratings))"
   ]
  },
  {
   "cell_type": "code",
   "execution_count": 23,
   "metadata": {},
   "outputs": [],
   "source": [
    "# importing pandas and saving Top 10 Team in top 10 Team Dataframre\n",
    "import pandas as pd\n",
    "Top_10_Team_womens=pd.DataFrame({})\n",
    "Top_10_Team_womens['Team']=Team\n",
    "Top_10_Team_womens['Matches']=Matches\n",
    "Top_10_Team_womens['Points']=Points\n",
    "Top_10_Team_womens['Ratings']=Ratings"
   ]
  },
  {
   "cell_type": "code",
   "execution_count": 24,
   "metadata": {},
   "outputs": [],
   "source": [
    "# lets import numpy and make our index to start counting from 1 for the better visualisation of data.\n",
    "import numpy as np\n",
    "Top_10_Team_womens.index = np.arange(1, len(Top_10_Team_womens)+1)"
   ]
  },
  {
   "cell_type": "code",
   "execution_count": 25,
   "metadata": {},
   "outputs": [
    {
     "data": {
      "text/html": [
       "<div>\n",
       "<style scoped>\n",
       "    .dataframe tbody tr th:only-of-type {\n",
       "        vertical-align: middle;\n",
       "    }\n",
       "\n",
       "    .dataframe tbody tr th {\n",
       "        vertical-align: top;\n",
       "    }\n",
       "\n",
       "    .dataframe thead th {\n",
       "        text-align: right;\n",
       "    }\n",
       "</style>\n",
       "<table border=\"1\" class=\"dataframe\">\n",
       "  <thead>\n",
       "    <tr style=\"text-align: right;\">\n",
       "      <th></th>\n",
       "      <th>Team</th>\n",
       "      <th>Matches</th>\n",
       "      <th>Points</th>\n",
       "      <th>Ratings</th>\n",
       "    </tr>\n",
       "  </thead>\n",
       "  <tbody>\n",
       "    <tr>\n",
       "      <th>1</th>\n",
       "      <td>Australia</td>\n",
       "      <td>15</td>\n",
       "      <td>2,436</td>\n",
       "      <td>162</td>\n",
       "    </tr>\n",
       "    <tr>\n",
       "      <th>2</th>\n",
       "      <td>India</td>\n",
       "      <td>15</td>\n",
       "      <td>1,812</td>\n",
       "      <td>121</td>\n",
       "    </tr>\n",
       "    <tr>\n",
       "      <th>3</th>\n",
       "      <td>England</td>\n",
       "      <td>14</td>\n",
       "      <td>1,670</td>\n",
       "      <td>119</td>\n",
       "    </tr>\n",
       "    <tr>\n",
       "      <th>4</th>\n",
       "      <td>South Africa</td>\n",
       "      <td>16</td>\n",
       "      <td>1,713</td>\n",
       "      <td>107</td>\n",
       "    </tr>\n",
       "    <tr>\n",
       "      <th>5</th>\n",
       "      <td>New Zealand</td>\n",
       "      <td>15</td>\n",
       "      <td>1,384</td>\n",
       "      <td>92</td>\n",
       "    </tr>\n",
       "    <tr>\n",
       "      <th>6</th>\n",
       "      <td>West Indies</td>\n",
       "      <td>12</td>\n",
       "      <td>1,025</td>\n",
       "      <td>85</td>\n",
       "    </tr>\n",
       "    <tr>\n",
       "      <th>7</th>\n",
       "      <td>Pakistan</td>\n",
       "      <td>12</td>\n",
       "      <td>927</td>\n",
       "      <td>77</td>\n",
       "    </tr>\n",
       "    <tr>\n",
       "      <th>8</th>\n",
       "      <td>Bangladesh</td>\n",
       "      <td>5</td>\n",
       "      <td>306</td>\n",
       "      <td>61</td>\n",
       "    </tr>\n",
       "    <tr>\n",
       "      <th>9</th>\n",
       "      <td>Sri Lanka</td>\n",
       "      <td>11</td>\n",
       "      <td>519</td>\n",
       "      <td>47</td>\n",
       "    </tr>\n",
       "    <tr>\n",
       "      <th>10</th>\n",
       "      <td>Ireland</td>\n",
       "      <td>2</td>\n",
       "      <td>25</td>\n",
       "      <td>13</td>\n",
       "    </tr>\n",
       "  </tbody>\n",
       "</table>\n",
       "</div>"
      ],
      "text/plain": [
       "            Team Matches Points Ratings\n",
       "1      Australia      15  2,436     162\n",
       "2          India      15  1,812     121\n",
       "3        England      14  1,670     119\n",
       "4   South Africa      16  1,713     107\n",
       "5    New Zealand      15  1,384      92\n",
       "6    West Indies      12  1,025      85\n",
       "7       Pakistan      12    927      77\n",
       "8     Bangladesh       5    306      61\n",
       "9      Sri Lanka      11    519      47\n",
       "10       Ireland       2     25      13"
      ]
     },
     "execution_count": 25,
     "metadata": {},
     "output_type": "execute_result"
    }
   ],
   "source": [
    "Top_10_Team_womens"
   ]
  },
  {
   "cell_type": "code",
   "execution_count": 26,
   "metadata": {},
   "outputs": [],
   "source": [
    "# we got the data lets extract the data in csv file\n",
    "Top_10_Team_womens.to_csv('Top_10_team_rankings_women.csv')"
   ]
  },
  {
   "cell_type": "markdown",
   "metadata": {},
   "source": [
    "# Top 10 ODI Batsmen "
   ]
  },
  {
   "cell_type": "code",
   "execution_count": 27,
   "metadata": {},
   "outputs": [],
   "source": [
    "url='https://www.icc-cricket.com/rankings/womens/player-rankings/odi/batting'"
   ]
  },
  {
   "cell_type": "code",
   "execution_count": 28,
   "metadata": {},
   "outputs": [],
   "source": [
    "driver.get(url)"
   ]
  },
  {
   "cell_type": "code",
   "execution_count": 29,
   "metadata": {},
   "outputs": [],
   "source": [
    "#calling empty list to store the different data\n",
    "Player_name=[]\n",
    "Team=[]\n",
    "Rating=[]\n",
    "Career_best_rating=[]"
   ]
  },
  {
   "cell_type": "code",
   "execution_count": 30,
   "metadata": {},
   "outputs": [
    {
     "data": {
      "text/plain": [
       "[<selenium.webdriver.remote.webelement.WebElement (session=\"1b049bbccd80b42dff4593e9eb3fbbb5\", element=\"64293d56-64d4-40c4-8ee1-4292a935457c\")>]"
      ]
     },
     "execution_count": 30,
     "metadata": {},
     "output_type": "execute_result"
    }
   ],
   "source": [
    "# lets extract rank 1 player name in the list\n",
    "name_tags=driver.find_elements_by_xpath(\"//div[@class='rankings-block__banner--name-large']\")\n",
    "name_tags"
   ]
  },
  {
   "cell_type": "code",
   "execution_count": 31,
   "metadata": {},
   "outputs": [
    {
     "data": {
      "text/plain": [
       "['Meg Lanning']"
      ]
     },
     "execution_count": 31,
     "metadata": {},
     "output_type": "execute_result"
    }
   ],
   "source": [
    "#saving player name to the list\n",
    "for i in name_tags:\n",
    "    \n",
    "    name=i.text\n",
    "    Player_name.append(name)\n",
    "Player_name"
   ]
  },
  {
   "cell_type": "code",
   "execution_count": 32,
   "metadata": {},
   "outputs": [
    {
     "data": {
      "text/plain": [
       "[<selenium.webdriver.remote.webelement.WebElement (session=\"1b049bbccd80b42dff4593e9eb3fbbb5\", element=\"20041db4-bebb-446f-8ed7-ef3a88d9d9bc\")>,\n",
       " <selenium.webdriver.remote.webelement.WebElement (session=\"1b049bbccd80b42dff4593e9eb3fbbb5\", element=\"b25d2902-e92a-446a-a533-0cac20da7291\")>,\n",
       " <selenium.webdriver.remote.webelement.WebElement (session=\"1b049bbccd80b42dff4593e9eb3fbbb5\", element=\"d29fc593-1241-4daa-8c1e-3cff9b0f0b59\")>,\n",
       " <selenium.webdriver.remote.webelement.WebElement (session=\"1b049bbccd80b42dff4593e9eb3fbbb5\", element=\"30bb3224-0d01-4a0a-b7c6-909812aff41a\")>]"
      ]
     },
     "execution_count": 32,
     "metadata": {},
     "output_type": "execute_result"
    }
   ],
   "source": [
    "# lets extract other player name in the list\n",
    "name_tags=driver.find_elements_by_xpath(\"//td[@class='table-body__cell rankings-table__name name']\")\n",
    "name_tags[:4]"
   ]
  },
  {
   "cell_type": "code",
   "execution_count": 33,
   "metadata": {},
   "outputs": [
    {
     "data": {
      "text/plain": [
       "['Meg Lanning',\n",
       " 'Stafanie Taylor',\n",
       " 'Alyssa Healy',\n",
       " 'Smriti Mandhana',\n",
       " 'Amy Satterthwaite']"
      ]
     },
     "execution_count": 33,
     "metadata": {},
     "output_type": "execute_result"
    }
   ],
   "source": [
    "#saving player name to the list\n",
    "for i in name_tags:\n",
    "    \n",
    "    name=i.text\n",
    "    Player_name.append(name)\n",
    "Player_name[:5]"
   ]
  },
  {
   "cell_type": "code",
   "execution_count": 34,
   "metadata": {},
   "outputs": [
    {
     "data": {
      "text/plain": [
       "[<selenium.webdriver.remote.webelement.WebElement (session=\"1b049bbccd80b42dff4593e9eb3fbbb5\", element=\"50f097e2-4728-4792-8ad8-020202116dab\")>]"
      ]
     },
     "execution_count": 34,
     "metadata": {},
     "output_type": "execute_result"
    }
   ],
   "source": [
    "# lets extract team name to the list\n",
    "team_tags=driver.find_elements_by_xpath(\"//div[@class='rankings-block__banner--nationality']\")\n",
    "team_tags"
   ]
  },
  {
   "cell_type": "code",
   "execution_count": 35,
   "metadata": {},
   "outputs": [
    {
     "data": {
      "text/plain": [
       "['AUS']"
      ]
     },
     "execution_count": 35,
     "metadata": {},
     "output_type": "execute_result"
    }
   ],
   "source": [
    "#saving rank 1 player team name to the list\n",
    "for i in team_tags:\n",
    "    \n",
    "    team=i.text\n",
    "    Team.append(team)\n",
    "Team"
   ]
  },
  {
   "cell_type": "code",
   "execution_count": 36,
   "metadata": {},
   "outputs": [
    {
     "data": {
      "text/plain": [
       "[<selenium.webdriver.remote.webelement.WebElement (session=\"1b049bbccd80b42dff4593e9eb3fbbb5\", element=\"00abbe5a-497c-48a4-9003-e78c59e57a3c\")>,\n",
       " <selenium.webdriver.remote.webelement.WebElement (session=\"1b049bbccd80b42dff4593e9eb3fbbb5\", element=\"8e68e1ff-043f-452d-954b-ccb731893fdf\")>,\n",
       " <selenium.webdriver.remote.webelement.WebElement (session=\"1b049bbccd80b42dff4593e9eb3fbbb5\", element=\"beaf4ac9-211a-4a2b-bea8-ceaca745d1ee\")>,\n",
       " <selenium.webdriver.remote.webelement.WebElement (session=\"1b049bbccd80b42dff4593e9eb3fbbb5\", element=\"e5176898-cf01-4b7b-be47-51a3e217448d\")>]"
      ]
     },
     "execution_count": 36,
     "metadata": {},
     "output_type": "execute_result"
    }
   ],
   "source": [
    "# lets extract other team name to the list\n",
    "team_tags=driver.find_elements_by_xpath(\"//span[@class='table-body__logo-text']\")\n",
    "team_tags[:4]"
   ]
  },
  {
   "cell_type": "code",
   "execution_count": 37,
   "metadata": {},
   "outputs": [
    {
     "data": {
      "text/plain": [
       "['AUS', 'WI', 'AUS', 'IND', 'NZ']"
      ]
     },
     "execution_count": 37,
     "metadata": {},
     "output_type": "execute_result"
    }
   ],
   "source": [
    "#saving other team name to the list\n",
    "for i in team_tags:\n",
    "    \n",
    "    team=i.text\n",
    "    Team.append(team)\n",
    "Team[:5]"
   ]
  },
  {
   "cell_type": "code",
   "execution_count": 38,
   "metadata": {},
   "outputs": [
    {
     "data": {
      "text/plain": [
       "[<selenium.webdriver.remote.webelement.WebElement (session=\"1b049bbccd80b42dff4593e9eb3fbbb5\", element=\"5b5bbaf7-500f-447e-8ac4-fe4ef670ebde\")>]"
      ]
     },
     "execution_count": 38,
     "metadata": {},
     "output_type": "execute_result"
    }
   ],
   "source": [
    "# lets extract Rating of the team to the list\n",
    "rating_tags=driver.find_elements_by_xpath(\"//div[@class='rankings-block__banner--rating']\")\n",
    "rating_tags"
   ]
  },
  {
   "cell_type": "code",
   "execution_count": 39,
   "metadata": {},
   "outputs": [
    {
     "data": {
      "text/plain": [
       "['749']"
      ]
     },
     "execution_count": 39,
     "metadata": {},
     "output_type": "execute_result"
    }
   ],
   "source": [
    "#saving ratings of rank 1 player name to the list\n",
    "for i in rating_tags:\n",
    "    \n",
    "    rating=i.text\n",
    "    Rating.append(rating)\n",
    "Rating"
   ]
  },
  {
   "cell_type": "code",
   "execution_count": 40,
   "metadata": {},
   "outputs": [
    {
     "data": {
      "text/plain": [
       "[<selenium.webdriver.remote.webelement.WebElement (session=\"1b049bbccd80b42dff4593e9eb3fbbb5\", element=\"824ed843-89a3-4230-9410-ac4399f06a05\")>,\n",
       " <selenium.webdriver.remote.webelement.WebElement (session=\"1b049bbccd80b42dff4593e9eb3fbbb5\", element=\"d5f186af-7aed-4a5d-9d95-db3b96be8c74\")>,\n",
       " <selenium.webdriver.remote.webelement.WebElement (session=\"1b049bbccd80b42dff4593e9eb3fbbb5\", element=\"ea2065e0-0ac5-4ea4-86b7-f61914086da4\")>,\n",
       " <selenium.webdriver.remote.webelement.WebElement (session=\"1b049bbccd80b42dff4593e9eb3fbbb5\", element=\"9bc102e1-836f-4e7b-8d03-d48c503828a8\")>,\n",
       " <selenium.webdriver.remote.webelement.WebElement (session=\"1b049bbccd80b42dff4593e9eb3fbbb5\", element=\"fb411cb5-74af-44b7-98de-eca8d6e271af\")>]"
      ]
     },
     "execution_count": 40,
     "metadata": {},
     "output_type": "execute_result"
    }
   ],
   "source": [
    "# lets extract Rating of the player to the list\n",
    "rating_tags=driver.find_elements_by_xpath(\"//td[@class='table-body__cell rating']\")\n",
    "rating_tags[:5]"
   ]
  },
  {
   "cell_type": "code",
   "execution_count": 41,
   "metadata": {},
   "outputs": [
    {
     "data": {
      "text/plain": [
       "['749', '746', '741', '732', '723']"
      ]
     },
     "execution_count": 41,
     "metadata": {},
     "output_type": "execute_result"
    }
   ],
   "source": [
    "#saving ratings of rank 1 player name to the list\n",
    "for i in rating_tags:\n",
    "    \n",
    "    rating=i.text\n",
    "    Rating.append(rating)\n",
    "Rating[:5]"
   ]
  },
  {
   "cell_type": "code",
   "execution_count": 42,
   "metadata": {},
   "outputs": [
    {
     "data": {
      "text/plain": [
       "[<selenium.webdriver.remote.webelement.WebElement (session=\"1b049bbccd80b42dff4593e9eb3fbbb5\", element=\"a9710aff-da33-4cb3-8797-50ba724906c3\")>]"
      ]
     },
     "execution_count": 42,
     "metadata": {},
     "output_type": "execute_result"
    }
   ],
   "source": [
    "# lets extract carrer best rating of rank 1 player to the list\n",
    "career_tags=driver.find_elements_by_xpath(\"//span[@class='rankings-block__career-best-text']\")\n",
    "career_tags"
   ]
  },
  {
   "cell_type": "code",
   "execution_count": 43,
   "metadata": {},
   "outputs": [
    {
     "data": {
      "text/plain": [
       "['834 v New Zealand, 24/02/2016']"
      ]
     },
     "execution_count": 43,
     "metadata": {},
     "output_type": "execute_result"
    }
   ],
   "source": [
    "#saving carrer best rating of the player to the list.\n",
    "for i in career_tags:\n",
    "    \n",
    "    career=i.text\n",
    "    Career_best_rating.append(career)\n",
    "Career_best_rating"
   ]
  },
  {
   "cell_type": "code",
   "execution_count": 44,
   "metadata": {},
   "outputs": [
    {
     "data": {
      "text/plain": [
       "[<selenium.webdriver.remote.webelement.WebElement (session=\"1b049bbccd80b42dff4593e9eb3fbbb5\", element=\"44dedd53-50a8-4af5-b69c-31bd428d2d30\")>,\n",
       " <selenium.webdriver.remote.webelement.WebElement (session=\"1b049bbccd80b42dff4593e9eb3fbbb5\", element=\"9086a6db-a309-4bd9-a7d7-a203d9a85a53\")>,\n",
       " <selenium.webdriver.remote.webelement.WebElement (session=\"1b049bbccd80b42dff4593e9eb3fbbb5\", element=\"80e92bbf-c01a-4608-8ad6-6d513aa97bcb\")>,\n",
       " <selenium.webdriver.remote.webelement.WebElement (session=\"1b049bbccd80b42dff4593e9eb3fbbb5\", element=\"f571f941-ce9b-484b-9c9f-c5e43da74086\")>,\n",
       " <selenium.webdriver.remote.webelement.WebElement (session=\"1b049bbccd80b42dff4593e9eb3fbbb5\", element=\"a193a51b-7b8e-46c8-9334-79e95fc8f3f4\")>]"
      ]
     },
     "execution_count": 44,
     "metadata": {},
     "output_type": "execute_result"
    }
   ],
   "source": [
    "# lets extract carrer best rating of other player to the list\n",
    "career_tags=driver.find_elements_by_xpath(\"//td[@class='table-body__cell u-text-right u-hide-phablet']\")\n",
    "career_tags[:5]"
   ]
  },
  {
   "cell_type": "code",
   "execution_count": 45,
   "metadata": {},
   "outputs": [
    {
     "data": {
      "text/plain": [
       "['834 v New Zealand, 24/02/2016',\n",
       " '765 v India, 02/03/2012',\n",
       " '741 v New Zealand, 07/10/2020',\n",
       " '797 v England, 28/02/2019',\n",
       " '756 v Australia, 02/03/2017']"
      ]
     },
     "execution_count": 45,
     "metadata": {},
     "output_type": "execute_result"
    }
   ],
   "source": [
    "#saving carrer best rating of the other player to the list.\n",
    "for i in career_tags:\n",
    "    \n",
    "    career=i.text\n",
    "    Career_best_rating.append(career)\n",
    "Career_best_rating[:5]"
   ]
  },
  {
   "cell_type": "code",
   "execution_count": 46,
   "metadata": {},
   "outputs": [
    {
     "name": "stdout",
     "output_type": "stream",
     "text": [
      "100 100 100 100\n"
     ]
    }
   ],
   "source": [
    "# as I extracted all the data\n",
    "# Before saving the data into a data frame length check the lenth all the data must be of equal lenghts before saving the data.\n",
    "print(len(Player_name),len(Team),len(Rating),len(Career_best_rating))"
   ]
  },
  {
   "cell_type": "code",
   "execution_count": 47,
   "metadata": {},
   "outputs": [],
   "source": [
    "# importing pandas and saving Top 10 players Dataframre\n",
    "import pandas as pd\n",
    "Top_10_batsman_women=pd.DataFrame({})\n",
    "Top_10_batsman_women['Player_name']=Player_name[:10]\n",
    "Top_10_batsman_women['Team']=Team[:10]\n",
    "Top_10_batsman_women['Rating']=Rating[:10]\n",
    "Top_10_batsman_women['Career_best_rating']=Career_best_rating[:10]"
   ]
  },
  {
   "cell_type": "code",
   "execution_count": 48,
   "metadata": {},
   "outputs": [],
   "source": [
    "# lets import numpy and make our index to start counting from 1 for the better visualisation of data.\n",
    "import numpy as np\n",
    "Top_10_batsman_women.index = np.arange(1, len(Top_10_batsman_women)+1)"
   ]
  },
  {
   "cell_type": "code",
   "execution_count": 49,
   "metadata": {},
   "outputs": [
    {
     "data": {
      "text/html": [
       "<div>\n",
       "<style scoped>\n",
       "    .dataframe tbody tr th:only-of-type {\n",
       "        vertical-align: middle;\n",
       "    }\n",
       "\n",
       "    .dataframe tbody tr th {\n",
       "        vertical-align: top;\n",
       "    }\n",
       "\n",
       "    .dataframe thead th {\n",
       "        text-align: right;\n",
       "    }\n",
       "</style>\n",
       "<table border=\"1\" class=\"dataframe\">\n",
       "  <thead>\n",
       "    <tr style=\"text-align: right;\">\n",
       "      <th></th>\n",
       "      <th>Player_name</th>\n",
       "      <th>Team</th>\n",
       "      <th>Rating</th>\n",
       "      <th>Career_best_rating</th>\n",
       "    </tr>\n",
       "  </thead>\n",
       "  <tbody>\n",
       "    <tr>\n",
       "      <th>1</th>\n",
       "      <td>Meg Lanning</td>\n",
       "      <td>AUS</td>\n",
       "      <td>749</td>\n",
       "      <td>834 v New Zealand, 24/02/2016</td>\n",
       "    </tr>\n",
       "    <tr>\n",
       "      <th>2</th>\n",
       "      <td>Stafanie Taylor</td>\n",
       "      <td>WI</td>\n",
       "      <td>746</td>\n",
       "      <td>765 v India, 02/03/2012</td>\n",
       "    </tr>\n",
       "    <tr>\n",
       "      <th>3</th>\n",
       "      <td>Alyssa Healy</td>\n",
       "      <td>AUS</td>\n",
       "      <td>741</td>\n",
       "      <td>741 v New Zealand, 07/10/2020</td>\n",
       "    </tr>\n",
       "    <tr>\n",
       "      <th>4</th>\n",
       "      <td>Smriti Mandhana</td>\n",
       "      <td>IND</td>\n",
       "      <td>732</td>\n",
       "      <td>797 v England, 28/02/2019</td>\n",
       "    </tr>\n",
       "    <tr>\n",
       "      <th>5</th>\n",
       "      <td>Amy Satterthwaite</td>\n",
       "      <td>NZ</td>\n",
       "      <td>723</td>\n",
       "      <td>756 v Australia, 02/03/2017</td>\n",
       "    </tr>\n",
       "    <tr>\n",
       "      <th>6</th>\n",
       "      <td>Tammy Beaumont</td>\n",
       "      <td>ENG</td>\n",
       "      <td>716</td>\n",
       "      <td>738 v Australia, 04/07/2019</td>\n",
       "    </tr>\n",
       "    <tr>\n",
       "      <th>7</th>\n",
       "      <td>Ellyse Perry</td>\n",
       "      <td>AUS</td>\n",
       "      <td>691</td>\n",
       "      <td>766 v West Indies, 11/09/2019</td>\n",
       "    </tr>\n",
       "    <tr>\n",
       "      <th>8</th>\n",
       "      <td>Lizelle Lee</td>\n",
       "      <td>SA</td>\n",
       "      <td>690</td>\n",
       "      <td>752 v England, 12/06/2018</td>\n",
       "    </tr>\n",
       "    <tr>\n",
       "      <th>9</th>\n",
       "      <td>Laura Wolvaardt</td>\n",
       "      <td>SA</td>\n",
       "      <td>689</td>\n",
       "      <td>712 v New Zealand, 25/01/2020</td>\n",
       "    </tr>\n",
       "    <tr>\n",
       "      <th>10</th>\n",
       "      <td>Mithali Raj</td>\n",
       "      <td>IND</td>\n",
       "      <td>687</td>\n",
       "      <td>839 v Australia, 24/12/2004</td>\n",
       "    </tr>\n",
       "  </tbody>\n",
       "</table>\n",
       "</div>"
      ],
      "text/plain": [
       "          Player_name Team Rating             Career_best_rating\n",
       "1         Meg Lanning  AUS    749  834 v New Zealand, 24/02/2016\n",
       "2     Stafanie Taylor   WI    746        765 v India, 02/03/2012\n",
       "3        Alyssa Healy  AUS    741  741 v New Zealand, 07/10/2020\n",
       "4     Smriti Mandhana  IND    732      797 v England, 28/02/2019\n",
       "5   Amy Satterthwaite   NZ    723    756 v Australia, 02/03/2017\n",
       "6      Tammy Beaumont  ENG    716    738 v Australia, 04/07/2019\n",
       "7        Ellyse Perry  AUS    691  766 v West Indies, 11/09/2019\n",
       "8         Lizelle Lee   SA    690      752 v England, 12/06/2018\n",
       "9     Laura Wolvaardt   SA    689  712 v New Zealand, 25/01/2020\n",
       "10        Mithali Raj  IND    687    839 v Australia, 24/12/2004"
      ]
     },
     "execution_count": 49,
     "metadata": {},
     "output_type": "execute_result"
    }
   ],
   "source": [
    "Top_10_batsman_women"
   ]
  },
  {
   "cell_type": "code",
   "execution_count": 50,
   "metadata": {},
   "outputs": [],
   "source": [
    "# we got the data lets extract the data in csv file\n",
    "Top_10_batsman_women.to_csv('Top_10_batsman_women_icc_ranking.csv')"
   ]
  },
  {
   "cell_type": "markdown",
   "metadata": {},
   "source": [
    "# Top 10 ODI bowlers women's cricket"
   ]
  },
  {
   "cell_type": "code",
   "execution_count": 51,
   "metadata": {},
   "outputs": [],
   "source": [
    "url='https://www.icc-cricket.com/rankings/womens/player-rankings/odi/all-rounder'"
   ]
  },
  {
   "cell_type": "code",
   "execution_count": 52,
   "metadata": {},
   "outputs": [],
   "source": [
    "driver.get(url)"
   ]
  },
  {
   "cell_type": "code",
   "execution_count": 53,
   "metadata": {},
   "outputs": [],
   "source": [
    "#calling empty list to store the different data\n",
    "Player_name=[]\n",
    "Team=[]\n",
    "Rating=[]\n",
    "Career_best_rating=[]"
   ]
  },
  {
   "cell_type": "code",
   "execution_count": 54,
   "metadata": {},
   "outputs": [
    {
     "data": {
      "text/plain": [
       "[<selenium.webdriver.remote.webelement.WebElement (session=\"1b049bbccd80b42dff4593e9eb3fbbb5\", element=\"ccf26cae-1e1d-4bc2-93f7-08ebdc70c754\")>]"
      ]
     },
     "execution_count": 54,
     "metadata": {},
     "output_type": "execute_result"
    }
   ],
   "source": [
    "# lets extract rank 1 player name in the list\n",
    "name_tags=driver.find_elements_by_xpath(\"//div[@class='rankings-block__banner--name-large']\")\n",
    "name_tags"
   ]
  },
  {
   "cell_type": "code",
   "execution_count": 55,
   "metadata": {},
   "outputs": [
    {
     "data": {
      "text/plain": [
       "['Ellyse Perry']"
      ]
     },
     "execution_count": 55,
     "metadata": {},
     "output_type": "execute_result"
    }
   ],
   "source": [
    "#saving player name to the list\n",
    "for i in name_tags:\n",
    "    \n",
    "    name=i.text\n",
    "    Player_name.append(name)\n",
    "Player_name"
   ]
  },
  {
   "cell_type": "code",
   "execution_count": 56,
   "metadata": {},
   "outputs": [
    {
     "data": {
      "text/plain": [
       "[<selenium.webdriver.remote.webelement.WebElement (session=\"1b049bbccd80b42dff4593e9eb3fbbb5\", element=\"faf3220d-144b-411a-bf60-dc49f64ca423\")>,\n",
       " <selenium.webdriver.remote.webelement.WebElement (session=\"1b049bbccd80b42dff4593e9eb3fbbb5\", element=\"06ac6426-6d4a-4a3f-828e-28c35256d940\")>,\n",
       " <selenium.webdriver.remote.webelement.WebElement (session=\"1b049bbccd80b42dff4593e9eb3fbbb5\", element=\"eb251184-3fbe-4f98-bb70-fdc79c011d22\")>,\n",
       " <selenium.webdriver.remote.webelement.WebElement (session=\"1b049bbccd80b42dff4593e9eb3fbbb5\", element=\"40189f78-562a-4fb6-a04b-598f1cf9a3ab\")>]"
      ]
     },
     "execution_count": 56,
     "metadata": {},
     "output_type": "execute_result"
    }
   ],
   "source": [
    "# lets extract other player name in the list\n",
    "name_tags=driver.find_elements_by_xpath(\"//td[@class='table-body__cell rankings-table__name name']\")\n",
    "name_tags[:4]"
   ]
  },
  {
   "cell_type": "code",
   "execution_count": 57,
   "metadata": {},
   "outputs": [
    {
     "data": {
      "text/plain": [
       "['Ellyse Perry',\n",
       " 'Stafanie Taylor',\n",
       " 'Marizanne Kapp',\n",
       " 'Deepti Sharma',\n",
       " 'Dane van Niekerk']"
      ]
     },
     "execution_count": 57,
     "metadata": {},
     "output_type": "execute_result"
    }
   ],
   "source": [
    "#saving player name to the list\n",
    "for i in name_tags:\n",
    "    \n",
    "    name=i.text\n",
    "    Player_name.append(name)\n",
    "Player_name[:5]"
   ]
  },
  {
   "cell_type": "code",
   "execution_count": 58,
   "metadata": {},
   "outputs": [
    {
     "data": {
      "text/plain": [
       "[<selenium.webdriver.remote.webelement.WebElement (session=\"1b049bbccd80b42dff4593e9eb3fbbb5\", element=\"91bfc601-4b5b-4d14-ba1b-d75c0b0358cd\")>]"
      ]
     },
     "execution_count": 58,
     "metadata": {},
     "output_type": "execute_result"
    }
   ],
   "source": [
    "# lets extract team name to the list\n",
    "team_tags=driver.find_elements_by_xpath(\"//div[@class='rankings-block__banner--nationality']\")\n",
    "team_tags"
   ]
  },
  {
   "cell_type": "code",
   "execution_count": 59,
   "metadata": {},
   "outputs": [
    {
     "data": {
      "text/plain": [
       "['AUS']"
      ]
     },
     "execution_count": 59,
     "metadata": {},
     "output_type": "execute_result"
    }
   ],
   "source": [
    "#saving rank 1 player team name to the list\n",
    "for i in team_tags:\n",
    "    \n",
    "    team=i.text\n",
    "    Team.append(team)\n",
    "Team"
   ]
  },
  {
   "cell_type": "code",
   "execution_count": 60,
   "metadata": {},
   "outputs": [
    {
     "data": {
      "text/plain": [
       "[<selenium.webdriver.remote.webelement.WebElement (session=\"1b049bbccd80b42dff4593e9eb3fbbb5\", element=\"346d4d2f-ca42-4fb0-a0d7-89c4d0645b0d\")>,\n",
       " <selenium.webdriver.remote.webelement.WebElement (session=\"1b049bbccd80b42dff4593e9eb3fbbb5\", element=\"23f1e08e-69a8-4e92-8671-9bf861929b14\")>,\n",
       " <selenium.webdriver.remote.webelement.WebElement (session=\"1b049bbccd80b42dff4593e9eb3fbbb5\", element=\"eb373e82-ad91-4a64-a7dc-7569d3a7084f\")>,\n",
       " <selenium.webdriver.remote.webelement.WebElement (session=\"1b049bbccd80b42dff4593e9eb3fbbb5\", element=\"cf95482a-f79a-473d-9ed5-68cba0254219\")>]"
      ]
     },
     "execution_count": 60,
     "metadata": {},
     "output_type": "execute_result"
    }
   ],
   "source": [
    "# lets extract other team name to the list\n",
    "team_tags=driver.find_elements_by_xpath(\"//span[@class='table-body__logo-text']\")\n",
    "team_tags[:4]"
   ]
  },
  {
   "cell_type": "code",
   "execution_count": 61,
   "metadata": {},
   "outputs": [
    {
     "data": {
      "text/plain": [
       "['AUS', 'WI', 'SA', 'IND', 'SA']"
      ]
     },
     "execution_count": 61,
     "metadata": {},
     "output_type": "execute_result"
    }
   ],
   "source": [
    "#saving other team name to the list\n",
    "for i in team_tags:\n",
    "    \n",
    "    team=i.text\n",
    "    Team.append(team)\n",
    "Team[:5]"
   ]
  },
  {
   "cell_type": "code",
   "execution_count": 62,
   "metadata": {},
   "outputs": [
    {
     "data": {
      "text/plain": [
       "[<selenium.webdriver.remote.webelement.WebElement (session=\"1b049bbccd80b42dff4593e9eb3fbbb5\", element=\"8b4218ea-816f-44f7-bbd4-3713f24236ac\")>]"
      ]
     },
     "execution_count": 62,
     "metadata": {},
     "output_type": "execute_result"
    }
   ],
   "source": [
    "# lets extract Rating of the team to the list\n",
    "rating_tags=driver.find_elements_by_xpath(\"//div[@class='rankings-block__banner--rating']\")\n",
    "rating_tags"
   ]
  },
  {
   "cell_type": "code",
   "execution_count": 63,
   "metadata": {},
   "outputs": [
    {
     "data": {
      "text/plain": [
       "['460']"
      ]
     },
     "execution_count": 63,
     "metadata": {},
     "output_type": "execute_result"
    }
   ],
   "source": [
    "#saving ratings of rank 1 player name to the list\n",
    "for i in rating_tags:\n",
    "    \n",
    "    rating=i.text\n",
    "    Rating.append(rating)\n",
    "Rating"
   ]
  },
  {
   "cell_type": "code",
   "execution_count": 64,
   "metadata": {},
   "outputs": [
    {
     "data": {
      "text/plain": [
       "[<selenium.webdriver.remote.webelement.WebElement (session=\"1b049bbccd80b42dff4593e9eb3fbbb5\", element=\"bc501c5a-ec3d-4e94-bd86-851a53d2a752\")>,\n",
       " <selenium.webdriver.remote.webelement.WebElement (session=\"1b049bbccd80b42dff4593e9eb3fbbb5\", element=\"ac1685d2-40e2-425b-836d-552332f833e9\")>,\n",
       " <selenium.webdriver.remote.webelement.WebElement (session=\"1b049bbccd80b42dff4593e9eb3fbbb5\", element=\"e6250f9b-e182-46f1-bc79-071f278bc5d2\")>,\n",
       " <selenium.webdriver.remote.webelement.WebElement (session=\"1b049bbccd80b42dff4593e9eb3fbbb5\", element=\"3b8a812c-a355-4cc3-8f64-0d41ac3006bc\")>,\n",
       " <selenium.webdriver.remote.webelement.WebElement (session=\"1b049bbccd80b42dff4593e9eb3fbbb5\", element=\"2932d1b1-f47f-48ae-afbe-0e0b8f9c1a47\")>]"
      ]
     },
     "execution_count": 64,
     "metadata": {},
     "output_type": "execute_result"
    }
   ],
   "source": [
    "# lets extract Rating of the player to the list\n",
    "rating_tags=driver.find_elements_by_xpath(\"//td[@class='table-body__cell rating']\")\n",
    "rating_tags[:5]"
   ]
  },
  {
   "cell_type": "code",
   "execution_count": 65,
   "metadata": {},
   "outputs": [
    {
     "data": {
      "text/plain": [
       "['460', '410', '389', '359', '335']"
      ]
     },
     "execution_count": 65,
     "metadata": {},
     "output_type": "execute_result"
    }
   ],
   "source": [
    "#saving ratings of rank 1 player name to the list\n",
    "for i in rating_tags:\n",
    "    \n",
    "    rating=i.text\n",
    "    Rating.append(rating)\n",
    "Rating[:5]"
   ]
  },
  {
   "cell_type": "code",
   "execution_count": 66,
   "metadata": {},
   "outputs": [
    {
     "data": {
      "text/plain": [
       "[<selenium.webdriver.remote.webelement.WebElement (session=\"1b049bbccd80b42dff4593e9eb3fbbb5\", element=\"65139f9d-0abf-4bc2-ad66-8cb8219b1fae\")>]"
      ]
     },
     "execution_count": 66,
     "metadata": {},
     "output_type": "execute_result"
    }
   ],
   "source": [
    "# lets extract carrer best rating of rank 1 player to the list\n",
    "career_tags=driver.find_elements_by_xpath(\"//span[@class='rankings-block__career-best-text']\")\n",
    "career_tags"
   ]
  },
  {
   "cell_type": "code",
   "execution_count": 67,
   "metadata": {},
   "outputs": [
    {
     "data": {
      "text/plain": [
       "['548 v West Indies, 11/09/2019']"
      ]
     },
     "execution_count": 67,
     "metadata": {},
     "output_type": "execute_result"
    }
   ],
   "source": [
    "#saving carrer best rating of the player to the list.\n",
    "for i in career_tags:\n",
    "    \n",
    "    career=i.text\n",
    "    Career_best_rating.append(career)\n",
    "Career_best_rating"
   ]
  },
  {
   "cell_type": "code",
   "execution_count": 68,
   "metadata": {},
   "outputs": [
    {
     "data": {
      "text/plain": [
       "[<selenium.webdriver.remote.webelement.WebElement (session=\"1b049bbccd80b42dff4593e9eb3fbbb5\", element=\"7d918d7b-80ac-4e05-a397-2d2ded1dbd58\")>,\n",
       " <selenium.webdriver.remote.webelement.WebElement (session=\"1b049bbccd80b42dff4593e9eb3fbbb5\", element=\"97cbb417-a956-46dc-b037-cfdb112d70e8\")>,\n",
       " <selenium.webdriver.remote.webelement.WebElement (session=\"1b049bbccd80b42dff4593e9eb3fbbb5\", element=\"096b79cc-3f32-400b-b526-14678ef18368\")>,\n",
       " <selenium.webdriver.remote.webelement.WebElement (session=\"1b049bbccd80b42dff4593e9eb3fbbb5\", element=\"fbded052-8e6d-4a38-8190-86ed9d40db28\")>,\n",
       " <selenium.webdriver.remote.webelement.WebElement (session=\"1b049bbccd80b42dff4593e9eb3fbbb5\", element=\"a8ed65ba-2d19-4bcd-9989-000c0ce5a6f4\")>]"
      ]
     },
     "execution_count": 68,
     "metadata": {},
     "output_type": "execute_result"
    }
   ],
   "source": [
    "# lets extract carrer best rating of other player to the list\n",
    "career_tags=driver.find_elements_by_xpath(\"//td[@class='table-body__cell u-text-right u-hide-phablet']\")\n",
    "career_tags[:5]"
   ]
  },
  {
   "cell_type": "code",
   "execution_count": 69,
   "metadata": {},
   "outputs": [
    {
     "data": {
      "text/plain": [
       "['548 v West Indies, 11/09/2019',\n",
       " '559 v New Zealand, 10/10/2013',\n",
       " '389 v New Zealand, 30/01/2020',\n",
       " '397 v South Africa, 09/10/2019',\n",
       " '421 v Sri Lanka, 11/02/2019']"
      ]
     },
     "execution_count": 69,
     "metadata": {},
     "output_type": "execute_result"
    }
   ],
   "source": [
    "#saving carrer best rating of the player to the list.\n",
    "for i in career_tags:\n",
    "    \n",
    "    career=i.text\n",
    "    Career_best_rating.append(career)\n",
    "Career_best_rating[:5]"
   ]
  },
  {
   "cell_type": "code",
   "execution_count": 70,
   "metadata": {},
   "outputs": [
    {
     "name": "stdout",
     "output_type": "stream",
     "text": [
      "20 20 20 20\n"
     ]
    }
   ],
   "source": [
    "# as I extracted all the data\n",
    "# Before saving the data into a data frame length check the lenth all the data must be of equal lenghts before saving the data.\n",
    "print(len(Player_name),len(Team),len(Rating),len(Career_best_rating))"
   ]
  },
  {
   "cell_type": "code",
   "execution_count": 71,
   "metadata": {},
   "outputs": [],
   "source": [
    "# importing pandas and saving Top 10 players Dataframre\n",
    "import pandas as pd\n",
    "Top_10_bowler_women=pd.DataFrame({})\n",
    "Top_10_bowler_women['Player_name']=Player_name[:10]\n",
    "Top_10_bowler_women['Team']=Team[:10]\n",
    "Top_10_bowler_women['Rating']=Rating[:10]\n",
    "Top_10_bowler_women['Career_best_rating']=Career_best_rating[:10]"
   ]
  },
  {
   "cell_type": "code",
   "execution_count": 72,
   "metadata": {},
   "outputs": [],
   "source": [
    "# lets import numpy and make our index to start counting from 1 for the better visualisation of data.\n",
    "import numpy as np\n",
    "Top_10_bowler_women.index = np.arange(1, len(Top_10_bowler_women)+1)"
   ]
  },
  {
   "cell_type": "code",
   "execution_count": 73,
   "metadata": {},
   "outputs": [
    {
     "data": {
      "text/html": [
       "<div>\n",
       "<style scoped>\n",
       "    .dataframe tbody tr th:only-of-type {\n",
       "        vertical-align: middle;\n",
       "    }\n",
       "\n",
       "    .dataframe tbody tr th {\n",
       "        vertical-align: top;\n",
       "    }\n",
       "\n",
       "    .dataframe thead th {\n",
       "        text-align: right;\n",
       "    }\n",
       "</style>\n",
       "<table border=\"1\" class=\"dataframe\">\n",
       "  <thead>\n",
       "    <tr style=\"text-align: right;\">\n",
       "      <th></th>\n",
       "      <th>Player_name</th>\n",
       "      <th>Team</th>\n",
       "      <th>Rating</th>\n",
       "      <th>Career_best_rating</th>\n",
       "    </tr>\n",
       "  </thead>\n",
       "  <tbody>\n",
       "    <tr>\n",
       "      <th>1</th>\n",
       "      <td>Ellyse Perry</td>\n",
       "      <td>AUS</td>\n",
       "      <td>460</td>\n",
       "      <td>548 v West Indies, 11/09/2019</td>\n",
       "    </tr>\n",
       "    <tr>\n",
       "      <th>2</th>\n",
       "      <td>Stafanie Taylor</td>\n",
       "      <td>WI</td>\n",
       "      <td>410</td>\n",
       "      <td>559 v New Zealand, 10/10/2013</td>\n",
       "    </tr>\n",
       "    <tr>\n",
       "      <th>3</th>\n",
       "      <td>Marizanne Kapp</td>\n",
       "      <td>SA</td>\n",
       "      <td>389</td>\n",
       "      <td>389 v New Zealand, 30/01/2020</td>\n",
       "    </tr>\n",
       "    <tr>\n",
       "      <th>4</th>\n",
       "      <td>Deepti Sharma</td>\n",
       "      <td>IND</td>\n",
       "      <td>359</td>\n",
       "      <td>397 v South Africa, 09/10/2019</td>\n",
       "    </tr>\n",
       "    <tr>\n",
       "      <th>5</th>\n",
       "      <td>Dane van Niekerk</td>\n",
       "      <td>SA</td>\n",
       "      <td>335</td>\n",
       "      <td>421 v Sri Lanka, 11/02/2019</td>\n",
       "    </tr>\n",
       "    <tr>\n",
       "      <th>6</th>\n",
       "      <td>Jess Jonassen</td>\n",
       "      <td>AUS</td>\n",
       "      <td>301</td>\n",
       "      <td>308 v West Indies, 11/09/2019</td>\n",
       "    </tr>\n",
       "    <tr>\n",
       "      <th>7</th>\n",
       "      <td>Sophie Devine</td>\n",
       "      <td>NZ</td>\n",
       "      <td>289</td>\n",
       "      <td>305 v Australia, 05/10/2020</td>\n",
       "    </tr>\n",
       "    <tr>\n",
       "      <th>8</th>\n",
       "      <td>Natalie Sciver</td>\n",
       "      <td>ENG</td>\n",
       "      <td>273</td>\n",
       "      <td>307 v Sri Lanka, 21/03/2019</td>\n",
       "    </tr>\n",
       "    <tr>\n",
       "      <th>9</th>\n",
       "      <td>Shikha Pandey</td>\n",
       "      <td>IND</td>\n",
       "      <td>250</td>\n",
       "      <td>262 v South Africa, 14/10/2019</td>\n",
       "    </tr>\n",
       "    <tr>\n",
       "      <th>10</th>\n",
       "      <td>Katherine Brunt</td>\n",
       "      <td>ENG</td>\n",
       "      <td>232</td>\n",
       "      <td>270 v Sri Lanka, 16/03/2019</td>\n",
       "    </tr>\n",
       "  </tbody>\n",
       "</table>\n",
       "</div>"
      ],
      "text/plain": [
       "         Player_name Team Rating              Career_best_rating\n",
       "1       Ellyse Perry  AUS    460   548 v West Indies, 11/09/2019\n",
       "2    Stafanie Taylor   WI    410   559 v New Zealand, 10/10/2013\n",
       "3     Marizanne Kapp   SA    389   389 v New Zealand, 30/01/2020\n",
       "4      Deepti Sharma  IND    359  397 v South Africa, 09/10/2019\n",
       "5   Dane van Niekerk   SA    335     421 v Sri Lanka, 11/02/2019\n",
       "6      Jess Jonassen  AUS    301   308 v West Indies, 11/09/2019\n",
       "7      Sophie Devine   NZ    289     305 v Australia, 05/10/2020\n",
       "8     Natalie Sciver  ENG    273     307 v Sri Lanka, 21/03/2019\n",
       "9      Shikha Pandey  IND    250  262 v South Africa, 14/10/2019\n",
       "10   Katherine Brunt  ENG    232     270 v Sri Lanka, 16/03/2019"
      ]
     },
     "execution_count": 73,
     "metadata": {},
     "output_type": "execute_result"
    }
   ],
   "source": [
    "Top_10_bowler_women"
   ]
  },
  {
   "cell_type": "code",
   "execution_count": 74,
   "metadata": {},
   "outputs": [],
   "source": [
    "# we got the data lets extract the data in csv file\n",
    "Top_10_bowler_women.to_csv('Top_10_bowler_women_icc_ranking.csv')"
   ]
  }
 ],
 "metadata": {
  "kernelspec": {
   "display_name": "Python 3",
   "language": "python",
   "name": "python3"
  },
  "language_info": {
   "codemirror_mode": {
    "name": "ipython",
    "version": 3
   },
   "file_extension": ".py",
   "mimetype": "text/x-python",
   "name": "python",
   "nbconvert_exporter": "python",
   "pygments_lexer": "ipython3",
   "version": "3.8.5"
  }
 },
 "nbformat": 4,
 "nbformat_minor": 4
}
