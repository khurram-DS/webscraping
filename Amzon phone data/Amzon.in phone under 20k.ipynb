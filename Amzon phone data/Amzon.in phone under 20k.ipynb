{
 "cells": [
  {
   "cell_type": "markdown",
   "metadata": {},
   "source": [
    "# Amazon Phone Data under Rs.20000\n",
    "\n",
    "python program to scrape details of all the mobile phones under Rs. 20,000 listed on Amazon.in. The\n",
    "scraped data includes,Product_link, Product Name, Price, Image URL and Average Rating"
   ]
  },
  {
   "cell_type": "code",
   "execution_count": 1,
   "metadata": {},
   "outputs": [],
   "source": [
    "#importing selenium library\n",
    "import selenium\n",
    "import pandas as pd\n",
    "import time\n",
    "from selenium import webdriver\n",
    "from selenium.common.exceptions import StaleElementReferenceException, NoSuchElementException ,ElementNotInteractableException,InvalidElementStateException"
   ]
  },
  {
   "cell_type": "code",
   "execution_count": 2,
   "metadata": {},
   "outputs": [],
   "source": [
    "driver= webdriver.Chrome(r\"C:\\Users\\khurr\\Downloads\\chromedriver.exe\")"
   ]
  },
  {
   "cell_type": "code",
   "execution_count": 3,
   "metadata": {},
   "outputs": [],
   "source": [
    "url='https://www.amazon.in/Mobile-Phone-Under-20000-Rupees/s?k=Mobile+Phone+Under+20000+Rupees'"
   ]
  },
  {
   "cell_type": "code",
   "execution_count": 4,
   "metadata": {},
   "outputs": [],
   "source": [
    "driver.get(url)"
   ]
  },
  {
   "cell_type": "code",
   "execution_count": 5,
   "metadata": {},
   "outputs": [],
   "source": [
    "#calling empty list to store the different data\n",
    "Product_Name=[]\n",
    "Product_link=[]\n",
    "Price=[]\n",
    "Image_URL=[]\n",
    "Average_Rating=[]"
   ]
  },
  {
   "cell_type": "code",
   "execution_count": 6,
   "metadata": {},
   "outputs": [],
   "source": [
    "for i in range(0,18):\n",
    "    url_tags=driver.find_elements_by_xpath(\"//a[@class='a-link-normal a-text-normal']\")\n",
    "    for j in url_tags:\n",
    "        Product_link.append(j.get_attribute('href'))\n",
    "    name_tags=driver.find_elements_by_xpath(\"//span[@class='a-size-medium a-color-base a-text-normal']\")\n",
    "    for i in name_tags:\n",
    "        Product_Name.append(i.text)\n",
    "    for k in driver.find_elements_by_xpath(\"//div[@class='a-section aok-relative s-image-fixed-height']/img\"):\n",
    "        Image_URL.append(k.get_attribute('src'))\n",
    "    driver.find_element_by_xpath(\"//li[@class='a-last']\").click()\n",
    "    time.sleep(3)"
   ]
  },
  {
   "cell_type": "raw",
   "metadata": {},
   "source": [
    "The reason i am extrating every link and finding every phone data after getting inside the web page of every phone is because some of the price tags and ratings tags are missing and i cannot sumbit the incomplete data."
   ]
  },
  {
   "cell_type": "code",
   "execution_count": 7,
   "metadata": {},
   "outputs": [],
   "source": [
    "#Making for loop for extracting price of every phone\n",
    "for j in Product_link:\n",
    "    driver.get(j)\n",
    "    try:\n",
    "        Price.append((driver.find_element_by_xpath(\"//td[@class='a-span12']/span\")).text)\n",
    "    except NoSuchElementException:\n",
    "        Price.append(\"NA\")"
   ]
  },
  {
   "cell_type": "code",
   "execution_count": 8,
   "metadata": {},
   "outputs": [],
   "source": [
    "#Making for loop for extracting average ratings of every phone\n",
    "for j in Product_link:\n",
    "    driver.get(j)\n",
    "    try:\n",
    "        Average_Rating.append((driver.find_element_by_xpath(\"//span[@class='a-size-base a-nowrap']/span\")).text)\n",
    "    except NoSuchElementException:\n",
    "        Average_Rating.append(\"NA\")"
   ]
  },
  {
   "cell_type": "code",
   "execution_count": 9,
   "metadata": {},
   "outputs": [
    {
     "name": "stdout",
     "output_type": "stream",
     "text": [
      "293 293 293 293 293\n"
     ]
    }
   ],
   "source": [
    "# as I extracted all the data\n",
    "# Before saving the data into a data frame length check the lenth all the data must be of equal lenghts before saving the data.\n",
    "print(len(Product_Name),len(Product_link),len(Price),len(Image_URL),len(Average_Rating))"
   ]
  },
  {
   "cell_type": "code",
   "execution_count": 10,
   "metadata": {},
   "outputs": [],
   "source": [
    "#lets save the extracted data\n",
    "import pandas as pd\n",
    "Phone_under_20k=pd.DataFrame({})\n",
    "Phone_under_20k['Product_Name']=Product_Name\n",
    "Phone_under_20k['Image_URL']=Image_URL\n",
    "Phone_under_20k['Average_Rating']=Average_Rating\n",
    "Phone_under_20k['Price']=Price\n",
    "Phone_under_20k['Product_link']=Product_link"
   ]
  },
  {
   "cell_type": "code",
   "execution_count": 11,
   "metadata": {},
   "outputs": [],
   "source": [
    "# lets import numpy and make our index to start counting from 1 for the better visualisation of data.\n",
    "import numpy as np\n",
    "Phone_under_20k.index = np.arange(1, len(Phone_under_20k)+1)"
   ]
  },
  {
   "cell_type": "code",
   "execution_count": 12,
   "metadata": {},
   "outputs": [],
   "source": [
    "# we got the data lets extract the data in csv file\n",
    "Phone_under_20k.to_csv('Phone_under_20k.csv')"
   ]
  },
  {
   "cell_type": "code",
   "execution_count": 13,
   "metadata": {},
   "outputs": [
    {
     "data": {
      "text/html": [
       "<div>\n",
       "<style scoped>\n",
       "    .dataframe tbody tr th:only-of-type {\n",
       "        vertical-align: middle;\n",
       "    }\n",
       "\n",
       "    .dataframe tbody tr th {\n",
       "        vertical-align: top;\n",
       "    }\n",
       "\n",
       "    .dataframe thead th {\n",
       "        text-align: right;\n",
       "    }\n",
       "</style>\n",
       "<table border=\"1\" class=\"dataframe\">\n",
       "  <thead>\n",
       "    <tr style=\"text-align: right;\">\n",
       "      <th></th>\n",
       "      <th>Product_Name</th>\n",
       "      <th>Image_URL</th>\n",
       "      <th>Average_Rating</th>\n",
       "      <th>Price</th>\n",
       "      <th>Product_link</th>\n",
       "    </tr>\n",
       "  </thead>\n",
       "  <tbody>\n",
       "    <tr>\n",
       "      <th>1</th>\n",
       "      <td>Oppo A31 (Mystery Black, 6GB RAM, 128GB Storag...</td>\n",
       "      <td>https://m.media-amazon.com/images/I/71KCwNV6Mu...</td>\n",
       "      <td>4 out of 5</td>\n",
       "      <td>₹ 13,990.00</td>\n",
       "      <td>https://www.amazon.in/gp/slredirect/picassoRed...</td>\n",
       "    </tr>\n",
       "    <tr>\n",
       "      <th>2</th>\n",
       "      <td>Oppo A31 (Fantasy White, 6GB RAM, 128GB Storag...</td>\n",
       "      <td>https://m.media-amazon.com/images/I/61CnyJ-IbM...</td>\n",
       "      <td>4.1 out of 5</td>\n",
       "      <td>₹ 13,990.00</td>\n",
       "      <td>https://www.amazon.in/gp/slredirect/picassoRed...</td>\n",
       "    </tr>\n",
       "    <tr>\n",
       "      <th>3</th>\n",
       "      <td>Redmi 9 (Sky Blue, 4GB RAM, 64GB Storage)</td>\n",
       "      <td>https://m.media-amazon.com/images/I/71uZrDPrsR...</td>\n",
       "      <td>4 out of 5</td>\n",
       "      <td>₹ 8,999.00</td>\n",
       "      <td>https://www.amazon.in/Redmi-Sky-Blue-64GB-Stor...</td>\n",
       "    </tr>\n",
       "    <tr>\n",
       "      <th>4</th>\n",
       "      <td>Samsung Galaxy M01 (Blue, 3GB RAM, 32GB Storag...</td>\n",
       "      <td>https://m.media-amazon.com/images/I/81o1rDu5FZ...</td>\n",
       "      <td>3.9 out of 5</td>\n",
       "      <td>₹ 7,499.00</td>\n",
       "      <td>https://www.amazon.in/Samsung-Galaxy-Storage-A...</td>\n",
       "    </tr>\n",
       "    <tr>\n",
       "      <th>5</th>\n",
       "      <td>Panasonic Eluga i7 (2GB RAM, 16GB Storage, Fin...</td>\n",
       "      <td>https://m.media-amazon.com/images/I/41QsvcpKaZ...</td>\n",
       "      <td>2.9 out of 5</td>\n",
       "      <td>₹ 5,000.00</td>\n",
       "      <td>https://www.amazon.in/Panasonic-Storage-Finger...</td>\n",
       "    </tr>\n",
       "    <tr>\n",
       "      <th>...</th>\n",
       "      <td>...</td>\n",
       "      <td>...</td>\n",
       "      <td>...</td>\n",
       "      <td>...</td>\n",
       "      <td>...</td>\n",
       "    </tr>\n",
       "    <tr>\n",
       "      <th>289</th>\n",
       "      <td>(Renewed) Poco X3 (Cobalt Blue, 6GB RAM / 128G...</td>\n",
       "      <td>https://m.media-amazon.com/images/I/61w3TeD65R...</td>\n",
       "      <td>1 out of 5</td>\n",
       "      <td>₹ 16,999.00</td>\n",
       "      <td>https://www.amazon.in/Renewed-Poco-Cobalt-128G...</td>\n",
       "    </tr>\n",
       "    <tr>\n",
       "      <th>290</th>\n",
       "      <td>Lenovo A7 (Black, 2GB RAM, 32GB Storage, 4000m...</td>\n",
       "      <td>https://m.media-amazon.com/images/I/31uPdaCoa9...</td>\n",
       "      <td>2 out of 5</td>\n",
       "      <td>₹ 6,888.00</td>\n",
       "      <td>https://www.amazon.in/Lenovo-Black-Storage-400...</td>\n",
       "    </tr>\n",
       "    <tr>\n",
       "      <th>291</th>\n",
       "      <td>Nokia 5.3 Android One Smartphone with Quad Cam...</td>\n",
       "      <td>https://m.media-amazon.com/images/I/710lQvb4NR...</td>\n",
       "      <td>3.7 out of 5</td>\n",
       "      <td>₹ 12,498.00</td>\n",
       "      <td>https://www.amazon.in/Nokia-5-3-Android-Smartp...</td>\n",
       "    </tr>\n",
       "    <tr>\n",
       "      <th>292</th>\n",
       "      <td>(Renewed) Asus Zenfone Max M2 (Black, 3GB RAM,...</td>\n",
       "      <td>https://m.media-amazon.com/images/I/61af9DdA61...</td>\n",
       "      <td>3.4 out of 5</td>\n",
       "      <td>₹ 7,999.00</td>\n",
       "      <td>https://www.amazon.in/Renewed-Asus-Zenfone-Bla...</td>\n",
       "    </tr>\n",
       "    <tr>\n",
       "      <th>293</th>\n",
       "      <td>Infinix Hot 10 (Ocean Wave, 6 GB RAM / 128 GB ...</td>\n",
       "      <td>https://m.media-amazon.com/images/I/71gDtUb8+s...</td>\n",
       "      <td>3.5 out of 5</td>\n",
       "      <td>NA</td>\n",
       "      <td>https://www.amazon.in/Infinix-Hot-Ocean-Wave-S...</td>\n",
       "    </tr>\n",
       "  </tbody>\n",
       "</table>\n",
       "<p>293 rows × 5 columns</p>\n",
       "</div>"
      ],
      "text/plain": [
       "                                          Product_Name  \\\n",
       "1    Oppo A31 (Mystery Black, 6GB RAM, 128GB Storag...   \n",
       "2    Oppo A31 (Fantasy White, 6GB RAM, 128GB Storag...   \n",
       "3            Redmi 9 (Sky Blue, 4GB RAM, 64GB Storage)   \n",
       "4    Samsung Galaxy M01 (Blue, 3GB RAM, 32GB Storag...   \n",
       "5    Panasonic Eluga i7 (2GB RAM, 16GB Storage, Fin...   \n",
       "..                                                 ...   \n",
       "289  (Renewed) Poco X3 (Cobalt Blue, 6GB RAM / 128G...   \n",
       "290  Lenovo A7 (Black, 2GB RAM, 32GB Storage, 4000m...   \n",
       "291  Nokia 5.3 Android One Smartphone with Quad Cam...   \n",
       "292  (Renewed) Asus Zenfone Max M2 (Black, 3GB RAM,...   \n",
       "293  Infinix Hot 10 (Ocean Wave, 6 GB RAM / 128 GB ...   \n",
       "\n",
       "                                             Image_URL Average_Rating  \\\n",
       "1    https://m.media-amazon.com/images/I/71KCwNV6Mu...     4 out of 5   \n",
       "2    https://m.media-amazon.com/images/I/61CnyJ-IbM...   4.1 out of 5   \n",
       "3    https://m.media-amazon.com/images/I/71uZrDPrsR...     4 out of 5   \n",
       "4    https://m.media-amazon.com/images/I/81o1rDu5FZ...   3.9 out of 5   \n",
       "5    https://m.media-amazon.com/images/I/41QsvcpKaZ...   2.9 out of 5   \n",
       "..                                                 ...            ...   \n",
       "289  https://m.media-amazon.com/images/I/61w3TeD65R...     1 out of 5   \n",
       "290  https://m.media-amazon.com/images/I/31uPdaCoa9...     2 out of 5   \n",
       "291  https://m.media-amazon.com/images/I/710lQvb4NR...   3.7 out of 5   \n",
       "292  https://m.media-amazon.com/images/I/61af9DdA61...   3.4 out of 5   \n",
       "293  https://m.media-amazon.com/images/I/71gDtUb8+s...   3.5 out of 5   \n",
       "\n",
       "           Price                                       Product_link  \n",
       "1    ₹ 13,990.00  https://www.amazon.in/gp/slredirect/picassoRed...  \n",
       "2    ₹ 13,990.00  https://www.amazon.in/gp/slredirect/picassoRed...  \n",
       "3     ₹ 8,999.00  https://www.amazon.in/Redmi-Sky-Blue-64GB-Stor...  \n",
       "4     ₹ 7,499.00  https://www.amazon.in/Samsung-Galaxy-Storage-A...  \n",
       "5     ₹ 5,000.00  https://www.amazon.in/Panasonic-Storage-Finger...  \n",
       "..           ...                                                ...  \n",
       "289  ₹ 16,999.00  https://www.amazon.in/Renewed-Poco-Cobalt-128G...  \n",
       "290   ₹ 6,888.00  https://www.amazon.in/Lenovo-Black-Storage-400...  \n",
       "291  ₹ 12,498.00  https://www.amazon.in/Nokia-5-3-Android-Smartp...  \n",
       "292   ₹ 7,999.00  https://www.amazon.in/Renewed-Asus-Zenfone-Bla...  \n",
       "293           NA  https://www.amazon.in/Infinix-Hot-Ocean-Wave-S...  \n",
       "\n",
       "[293 rows x 5 columns]"
      ]
     },
     "execution_count": 13,
     "metadata": {},
     "output_type": "execute_result"
    }
   ],
   "source": [
    "# my extracted data\n",
    "Phone_under_20k"
   ]
  },
  {
   "cell_type": "code",
   "execution_count": 19,
   "metadata": {},
   "outputs": [
    {
     "data": {
      "text/plain": [
       "Product_Name      0\n",
       "Image_URL         0\n",
       "Average_Rating    0\n",
       "Price             0\n",
       "Product_link      0\n",
       "dtype: int64"
      ]
     },
     "execution_count": 19,
     "metadata": {},
     "output_type": "execute_result"
    }
   ],
   "source": [
    "#no data is been null so i have extracted the data accurately\n",
    "Phone_under_20k.isnull().sum()"
   ]
  }
 ],
 "metadata": {
  "kernelspec": {
   "display_name": "Python 3",
   "language": "python",
   "name": "python3"
  },
  "language_info": {
   "codemirror_mode": {
    "name": "ipython",
    "version": 3
   },
   "file_extension": ".py",
   "mimetype": "text/x-python",
   "name": "python",
   "nbconvert_exporter": "python",
   "pygments_lexer": "ipython3",
   "version": "3.8.5"
  }
 },
 "nbformat": 4,
 "nbformat_minor": 4
}
