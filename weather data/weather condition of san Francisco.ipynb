{
 "cells": [
  {
   "cell_type": "markdown",
   "metadata": {},
   "source": [
    "# weather report of SANFRANCISCO \n",
    "\n",
    "Writing a python program to extract information about the local weather from the National Weather Service\n",
    "website of USA, https://www.weather.gov/ for the city,\n",
    "San Francisco.\n",
    "\n",
    "I extracted data about 7 day\n",
    "extended forecast display for the city.\n",
    "\n",
    "The data includes period, short description, temperature and\n",
    "description"
   ]
  },
  {
   "cell_type": "code",
   "execution_count": 24,
   "metadata": {},
   "outputs": [],
   "source": [
    "#importing selenium library\n",
    "import selenium\n",
    "import pandas as pd\n",
    "import time\n",
    "from selenium import webdriver\n",
    "from selenium.common.exceptions import StaleElementReferenceException, NoSuchElementException ,ElementNotInteractableException,InvalidElementStateException"
   ]
  },
  {
   "cell_type": "code",
   "execution_count": 25,
   "metadata": {},
   "outputs": [],
   "source": [
    "# importing the chrome driver\n",
    "driver= webdriver.Chrome(r\"C:\\Users\\khurr\\Downloads\\chromedriver.exe\")"
   ]
  },
  {
   "cell_type": "code",
   "execution_count": 26,
   "metadata": {},
   "outputs": [],
   "source": [
    "url='https://forecast.weather.gov/MapClick.php?lat=37.77493000000004&lon=-122.41941999999995#.YAVrhegzbDc'"
   ]
  },
  {
   "cell_type": "code",
   "execution_count": 27,
   "metadata": {},
   "outputs": [],
   "source": [
    "driver.get(url)"
   ]
  },
  {
   "cell_type": "code",
   "execution_count": 64,
   "metadata": {},
   "outputs": [],
   "source": [
    "#calling empty list to store the different data\n",
    "Period=[]\n",
    "Short_desc=[]\n",
    "Temperature=[]\n",
    "Detailed_desc=[]"
   ]
  },
  {
   "cell_type": "code",
   "execution_count": 65,
   "metadata": {},
   "outputs": [],
   "source": [
    "# lets extract the period data\n",
    "period_tags=driver.find_elements_by_xpath(\"//p[@class='period-name']\")\n",
    "for i in period_tags:\n",
    "    Period.append(i.text.replace('\\n',''))\n",
    "del Period[0]\n",
    "# lets extract the short description of data\n",
    "desc=driver.find_elements_by_xpath(\"//p[@class='short-desc']\")\n",
    "for i in desc:\n",
    "    Short_desc.append(i.text.replace('\\n',''))\n",
    "del Short_desc[0]\n",
    "# lets extract the temperature of data\n",
    "temp=driver.find_elements_by_xpath(\"//div[@class='tombstone-container']/p[4]\")\n",
    "for i in temp:\n",
    "    Temperature.append(i.text.replace('\\n',''))\n",
    "# lets extract the descripyion of each period\n",
    "detail=driver.find_elements_by_xpath(\"//div[@class='col-sm-10 forecast-text']\")\n",
    "for i in detail:\n",
    "    Detailed_desc.append(i.text.replace('\\n',''))\n",
    "del Detailed_desc[8:] #deleting other data as i have to extract only 7 day data."
   ]
  },
  {
   "cell_type": "code",
   "execution_count": 71,
   "metadata": {},
   "outputs": [
    {
     "name": "stdout",
     "output_type": "stream",
     "text": [
      "8 8 8 8\n"
     ]
    }
   ],
   "source": [
    "# as I extracted all the data\n",
    "# Before saving the data into a data frame length check the lenth all the data must be of equal lenghts before saving the data.\n",
    "print(len(Period),len(Short_desc),len(Temperature),len(Detailed_desc))"
   ]
  },
  {
   "cell_type": "code",
   "execution_count": 72,
   "metadata": {},
   "outputs": [],
   "source": [
    "#lets save the extracted data\n",
    "import pandas as pd\n",
    "weather=pd.DataFrame({})\n",
    "weather['Period_Name']=Period\n",
    "weather['Short_desc']=Short_desc\n",
    "weather['Temperature']=Temperature\n",
    "weather['Detailed_desc']=Detailed_desc"
   ]
  },
  {
   "cell_type": "code",
   "execution_count": 74,
   "metadata": {},
   "outputs": [],
   "source": [
    "# lets import numpy and make our index to start counting from 1 for the better visualisation of data.\n",
    "import numpy as np\n",
    "weather.index = np.arange(1, len(weather)+1)"
   ]
  },
  {
   "cell_type": "code",
   "execution_count": 75,
   "metadata": {},
   "outputs": [],
   "source": [
    "# we got the data lets extract the data in csv file\n",
    "weather.to_csv('weather_sanfrancisco.csv')"
   ]
  },
  {
   "cell_type": "code",
   "execution_count": 76,
   "metadata": {},
   "outputs": [
    {
     "data": {
      "text/html": [
       "<div>\n",
       "<style scoped>\n",
       "    .dataframe tbody tr th:only-of-type {\n",
       "        vertical-align: middle;\n",
       "    }\n",
       "\n",
       "    .dataframe tbody tr th {\n",
       "        vertical-align: top;\n",
       "    }\n",
       "\n",
       "    .dataframe thead th {\n",
       "        text-align: right;\n",
       "    }\n",
       "</style>\n",
       "<table border=\"1\" class=\"dataframe\">\n",
       "  <thead>\n",
       "    <tr style=\"text-align: right;\">\n",
       "      <th></th>\n",
       "      <th>Period_Name</th>\n",
       "      <th>Short_desc</th>\n",
       "      <th>Temperature</th>\n",
       "      <th>Detailed_desc</th>\n",
       "    </tr>\n",
       "  </thead>\n",
       "  <tbody>\n",
       "    <tr>\n",
       "      <th>1</th>\n",
       "      <td>Overnight</td>\n",
       "      <td>Mostly Cloudy</td>\n",
       "      <td>Low: 51 °F</td>\n",
       "      <td>Mostly cloudy, with a low around 51. Calm wind.</td>\n",
       "    </tr>\n",
       "    <tr>\n",
       "      <th>2</th>\n",
       "      <td>M.L.KingDay</td>\n",
       "      <td>Sunny</td>\n",
       "      <td>High: 72 °F</td>\n",
       "      <td>Sunny, with a high near 72. North northeast wi...</td>\n",
       "    </tr>\n",
       "    <tr>\n",
       "      <th>3</th>\n",
       "      <td>MondayNight</td>\n",
       "      <td>Clear thenMostly Clearand Breezy</td>\n",
       "      <td>Low: 52 °F</td>\n",
       "      <td>Clear, with a low around 52. Breezy, with a no...</td>\n",
       "    </tr>\n",
       "    <tr>\n",
       "      <th>4</th>\n",
       "      <td>Tuesday</td>\n",
       "      <td>Sunny</td>\n",
       "      <td>High: 66 °F</td>\n",
       "      <td>Sunny, with a high near 66. North northeast wi...</td>\n",
       "    </tr>\n",
       "    <tr>\n",
       "      <th>5</th>\n",
       "      <td>TuesdayNight</td>\n",
       "      <td>Clear</td>\n",
       "      <td>Low: 46 °F</td>\n",
       "      <td>Clear, with a low around 46. North northeast w...</td>\n",
       "    </tr>\n",
       "    <tr>\n",
       "      <th>6</th>\n",
       "      <td>Wednesday</td>\n",
       "      <td>Sunny</td>\n",
       "      <td>High: 64 °F</td>\n",
       "      <td>Sunny, with a high near 64.</td>\n",
       "    </tr>\n",
       "    <tr>\n",
       "      <th>7</th>\n",
       "      <td>WednesdayNight</td>\n",
       "      <td>Mostly Clear</td>\n",
       "      <td>Low: 45 °F</td>\n",
       "      <td>Mostly clear, with a low around 45.</td>\n",
       "    </tr>\n",
       "    <tr>\n",
       "      <th>8</th>\n",
       "      <td>Thursday</td>\n",
       "      <td>Mostly Sunny</td>\n",
       "      <td>High: 61 °F</td>\n",
       "      <td>Mostly sunny, with a high near 61.</td>\n",
       "    </tr>\n",
       "  </tbody>\n",
       "</table>\n",
       "</div>"
      ],
      "text/plain": [
       "      Period_Name                        Short_desc  Temperature  \\\n",
       "1       Overnight                     Mostly Cloudy   Low: 51 °F   \n",
       "2     M.L.KingDay                             Sunny  High: 72 °F   \n",
       "3     MondayNight  Clear thenMostly Clearand Breezy   Low: 52 °F   \n",
       "4         Tuesday                             Sunny  High: 66 °F   \n",
       "5    TuesdayNight                             Clear   Low: 46 °F   \n",
       "6       Wednesday                             Sunny  High: 64 °F   \n",
       "7  WednesdayNight                      Mostly Clear   Low: 45 °F   \n",
       "8        Thursday                      Mostly Sunny  High: 61 °F   \n",
       "\n",
       "                                       Detailed_desc  \n",
       "1    Mostly cloudy, with a low around 51. Calm wind.  \n",
       "2  Sunny, with a high near 72. North northeast wi...  \n",
       "3  Clear, with a low around 52. Breezy, with a no...  \n",
       "4  Sunny, with a high near 66. North northeast wi...  \n",
       "5  Clear, with a low around 46. North northeast w...  \n",
       "6                        Sunny, with a high near 64.  \n",
       "7                Mostly clear, with a low around 45.  \n",
       "8                 Mostly sunny, with a high near 61.  "
      ]
     },
     "execution_count": 76,
     "metadata": {},
     "output_type": "execute_result"
    }
   ],
   "source": [
    "# my extracted data\n",
    "weather"
   ]
  },
  {
   "cell_type": "code",
   "execution_count": null,
   "metadata": {},
   "outputs": [],
   "source": []
  }
 ],
 "metadata": {
  "kernelspec": {
   "display_name": "Python 3",
   "language": "python",
   "name": "python3"
  },
  "language_info": {
   "codemirror_mode": {
    "name": "ipython",
    "version": 3
   },
   "file_extension": ".py",
   "mimetype": "text/x-python",
   "name": "python",
   "nbconvert_exporter": "python",
   "pygments_lexer": "ipython3",
   "version": "3.8.5"
  }
 },
 "nbformat": 4,
 "nbformat_minor": 4
}
